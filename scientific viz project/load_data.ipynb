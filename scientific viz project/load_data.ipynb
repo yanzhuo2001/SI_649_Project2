{
 "cells": [
  {
   "cell_type": "code",
   "execution_count": 1,
   "id": "initial_id",
   "metadata": {
    "collapsed": true,
    "ExecuteTime": {
     "end_time": "2024-03-26T05:24:54.009110Z",
     "start_time": "2024-03-26T05:24:41.395987Z"
    }
   },
   "outputs": [
    {
     "data": {
      "text/plain": "   teamId     eventSec matchPeriod  tag_id\n0     695  2026.863060          1H    1702\n1     682  2196.267257          1H    1702\n2     682  1025.147516          2H    1702\n3     682  2497.622568          2H    1702\n4     695  2571.818575          2H     101",
      "text/html": "<div>\n<style scoped>\n    .dataframe tbody tr th:only-of-type {\n        vertical-align: middle;\n    }\n\n    .dataframe tbody tr th {\n        vertical-align: top;\n    }\n\n    .dataframe thead th {\n        text-align: right;\n    }\n</style>\n<table border=\"1\" class=\"dataframe\">\n  <thead>\n    <tr style=\"text-align: right;\">\n      <th></th>\n      <th>teamId</th>\n      <th>eventSec</th>\n      <th>matchPeriod</th>\n      <th>tag_id</th>\n    </tr>\n  </thead>\n  <tbody>\n    <tr>\n      <th>0</th>\n      <td>695</td>\n      <td>2026.863060</td>\n      <td>1H</td>\n      <td>1702</td>\n    </tr>\n    <tr>\n      <th>1</th>\n      <td>682</td>\n      <td>2196.267257</td>\n      <td>1H</td>\n      <td>1702</td>\n    </tr>\n    <tr>\n      <th>2</th>\n      <td>682</td>\n      <td>1025.147516</td>\n      <td>2H</td>\n      <td>1702</td>\n    </tr>\n    <tr>\n      <th>3</th>\n      <td>682</td>\n      <td>2497.622568</td>\n      <td>2H</td>\n      <td>1702</td>\n    </tr>\n    <tr>\n      <th>4</th>\n      <td>695</td>\n      <td>2571.818575</td>\n      <td>2H</td>\n      <td>101</td>\n    </tr>\n  </tbody>\n</table>\n</div>"
     },
     "execution_count": 1,
     "metadata": {},
     "output_type": "execute_result"
    }
   ],
   "source": [
    "import json\n",
    "import pandas as pd\n",
    "import os\n",
    "\n",
    "interested_ids = [1701, 1702, 101]\n",
    "\n",
    "directory = 'data/events'\n",
    "\n",
    "data_list = []\n",
    "\n",
    "for file_name in os.listdir(directory):\n",
    "    if file_name.endswith('.json'):  # 确保只处理JSON文件\n",
    "        file_path = os.path.join(directory, file_name)\n",
    "        with open(file_path, 'r') as file:\n",
    "            # 加载JSON数据\n",
    "            data = json.load(file)\n",
    "            for item in data:\n",
    "                for tags_ids in item['tags']:\n",
    "                    if int(tags_ids['id']) in interested_ids:\n",
    "                        # 提取需要的字段并添加到列表中\n",
    "                        data_list.append({\n",
    "                            'teamId': item['teamId'],\n",
    "                            'eventSec': item['eventSec'],\n",
    "                            'matchPeriod': item['matchPeriod'],\n",
    "                            'tag_id':tags_ids['id']\n",
    "                        })\n",
    "\n",
    "df = pd.DataFrame(data_list)\n",
    "\n",
    "df.head()"
   ]
  },
  {
   "cell_type": "code",
   "outputs": [
    {
     "data": {
      "text/plain": "(18005, 4)"
     },
     "execution_count": 2,
     "metadata": {},
     "output_type": "execute_result"
    }
   ],
   "source": [
    "df.shape"
   ],
   "metadata": {
    "collapsed": false,
    "ExecuteTime": {
     "end_time": "2024-03-26T05:24:54.013408Z",
     "start_time": "2024-03-26T05:24:54.010115Z"
    }
   },
   "id": "b02f2a3e4d4ee545",
   "execution_count": 2
  },
  {
   "cell_type": "code",
   "outputs": [
    {
     "data": {
      "text/plain": "   teamId matchPeriod  tag_id     minute\n0     695          1H    1702  33.781051\n1     682          1H    1702  36.604454\n2     682          2H    1702  62.085792\n3     682          2H    1702  86.627043\n4     695          2H     101  87.863643",
      "text/html": "<div>\n<style scoped>\n    .dataframe tbody tr th:only-of-type {\n        vertical-align: middle;\n    }\n\n    .dataframe tbody tr th {\n        vertical-align: top;\n    }\n\n    .dataframe thead th {\n        text-align: right;\n    }\n</style>\n<table border=\"1\" class=\"dataframe\">\n  <thead>\n    <tr style=\"text-align: right;\">\n      <th></th>\n      <th>teamId</th>\n      <th>matchPeriod</th>\n      <th>tag_id</th>\n      <th>minute</th>\n    </tr>\n  </thead>\n  <tbody>\n    <tr>\n      <th>0</th>\n      <td>695</td>\n      <td>1H</td>\n      <td>1702</td>\n      <td>33.781051</td>\n    </tr>\n    <tr>\n      <th>1</th>\n      <td>682</td>\n      <td>1H</td>\n      <td>1702</td>\n      <td>36.604454</td>\n    </tr>\n    <tr>\n      <th>2</th>\n      <td>682</td>\n      <td>2H</td>\n      <td>1702</td>\n      <td>62.085792</td>\n    </tr>\n    <tr>\n      <th>3</th>\n      <td>682</td>\n      <td>2H</td>\n      <td>1702</td>\n      <td>86.627043</td>\n    </tr>\n    <tr>\n      <th>4</th>\n      <td>695</td>\n      <td>2H</td>\n      <td>101</td>\n      <td>87.863643</td>\n    </tr>\n  </tbody>\n</table>\n</div>"
     },
     "execution_count": 3,
     "metadata": {},
     "output_type": "execute_result"
    }
   ],
   "source": [
    "import numpy as np\n",
    "df['minute'] = np.where(df['matchPeriod'] == '2H', df['eventSec'] / 60 + 45, df['eventSec'] / 60)\n",
    "df.drop('eventSec', axis=1, inplace=True)\n",
    "df.head()"
   ],
   "metadata": {
    "collapsed": false,
    "ExecuteTime": {
     "end_time": "2024-03-26T05:24:54.024965Z",
     "start_time": "2024-03-26T05:24:54.013408Z"
    }
   },
   "id": "a69f7bff335a4717",
   "execution_count": 3
  },
  {
   "cell_type": "code",
   "outputs": [
    {
     "data": {
      "text/plain": "   teamId matchPeriod     minute    eventName\n0     695          1H  33.781051  Yellow_Card\n1     682          1H  36.604454  Yellow_Card\n2     682          2H  62.085792  Yellow_Card\n3     682          2H  86.627043  Yellow_Card\n4     695          2H  87.863643         Goal",
      "text/html": "<div>\n<style scoped>\n    .dataframe tbody tr th:only-of-type {\n        vertical-align: middle;\n    }\n\n    .dataframe tbody tr th {\n        vertical-align: top;\n    }\n\n    .dataframe thead th {\n        text-align: right;\n    }\n</style>\n<table border=\"1\" class=\"dataframe\">\n  <thead>\n    <tr style=\"text-align: right;\">\n      <th></th>\n      <th>teamId</th>\n      <th>matchPeriod</th>\n      <th>minute</th>\n      <th>eventName</th>\n    </tr>\n  </thead>\n  <tbody>\n    <tr>\n      <th>0</th>\n      <td>695</td>\n      <td>1H</td>\n      <td>33.781051</td>\n      <td>Yellow_Card</td>\n    </tr>\n    <tr>\n      <th>1</th>\n      <td>682</td>\n      <td>1H</td>\n      <td>36.604454</td>\n      <td>Yellow_Card</td>\n    </tr>\n    <tr>\n      <th>2</th>\n      <td>682</td>\n      <td>2H</td>\n      <td>62.085792</td>\n      <td>Yellow_Card</td>\n    </tr>\n    <tr>\n      <th>3</th>\n      <td>682</td>\n      <td>2H</td>\n      <td>86.627043</td>\n      <td>Yellow_Card</td>\n    </tr>\n    <tr>\n      <th>4</th>\n      <td>695</td>\n      <td>2H</td>\n      <td>87.863643</td>\n      <td>Goal</td>\n    </tr>\n  </tbody>\n</table>\n</div>"
     },
     "execution_count": 4,
     "metadata": {},
     "output_type": "execute_result"
    }
   ],
   "source": [
    "conditions = [\n",
    "    df['tag_id'] == 101,\n",
    "    df['tag_id'] == 1701,\n",
    "    df['tag_id'] == 1702\n",
    "]\n",
    "\n",
    "choices = ['Goal', 'Red_Card', 'Yellow_Card']\n",
    "\n",
    "df['eventName'] = np.select(conditions, choices, default='Other')\n",
    "\n",
    "df.drop('tag_id', axis=1, inplace=True)\n",
    "\n",
    "df.head()"
   ],
   "metadata": {
    "collapsed": false,
    "ExecuteTime": {
     "end_time": "2024-03-26T05:24:54.036459Z",
     "start_time": "2024-03-26T05:24:54.026961Z"
    }
   },
   "id": "d29b6d39374b450e",
   "execution_count": 4
  },
  {
   "cell_type": "code",
   "outputs": [
    {
     "data": {
      "text/plain": "                TeamName  teamId\n0       Newcastle United    1613\n1          Celta de Vigo     692\n2               Espanyol     691\n3  Deportivo Alav\\u00e9s     696\n4                Levante     695",
      "text/html": "<div>\n<style scoped>\n    .dataframe tbody tr th:only-of-type {\n        vertical-align: middle;\n    }\n\n    .dataframe tbody tr th {\n        vertical-align: top;\n    }\n\n    .dataframe thead th {\n        text-align: right;\n    }\n</style>\n<table border=\"1\" class=\"dataframe\">\n  <thead>\n    <tr style=\"text-align: right;\">\n      <th></th>\n      <th>TeamName</th>\n      <th>teamId</th>\n    </tr>\n  </thead>\n  <tbody>\n    <tr>\n      <th>0</th>\n      <td>Newcastle United</td>\n      <td>1613</td>\n    </tr>\n    <tr>\n      <th>1</th>\n      <td>Celta de Vigo</td>\n      <td>692</td>\n    </tr>\n    <tr>\n      <th>2</th>\n      <td>Espanyol</td>\n      <td>691</td>\n    </tr>\n    <tr>\n      <th>3</th>\n      <td>Deportivo Alav\\u00e9s</td>\n      <td>696</td>\n    </tr>\n    <tr>\n      <th>4</th>\n      <td>Levante</td>\n      <td>695</td>\n    </tr>\n  </tbody>\n</table>\n</div>"
     },
     "execution_count": 5,
     "metadata": {},
     "output_type": "execute_result"
    }
   ],
   "source": [
    "data_for_df = []\n",
    "with open('data/teams.json', 'r') as file:\n",
    "    data2 = json.load(file)\n",
    "    for item in data2:\n",
    "        data_for_df.append({\n",
    "            'TeamName': item['name'],\n",
    "            'teamId': item['wyId'],\n",
    "        })\n",
    "\n",
    "df_team = pd.DataFrame(data_for_df)\n",
    "df_team.head()"
   ],
   "metadata": {
    "collapsed": false,
    "ExecuteTime": {
     "end_time": "2024-03-26T05:24:54.047779Z",
     "start_time": "2024-03-26T05:24:54.036459Z"
    }
   },
   "id": "cbd0434e312b3650",
   "execution_count": 5
  },
  {
   "cell_type": "code",
   "outputs": [
    {
     "name": "stdout",
     "output_type": "stream",
     "text": [
      "    teamId matchPeriod     minute    eventName       TeamName\n",
      "0      695          1H  33.781051  Yellow_Card        Levante\n",
      "1      682          1H  36.604454  Yellow_Card     Villarreal\n",
      "2      682          2H  62.085792  Yellow_Card     Villarreal\n",
      "3      682          2H  86.627043  Yellow_Card     Villarreal\n",
      "4      695          2H  87.863643         Goal        Levante\n",
      "5      682          2H  87.904443         Goal     Villarreal\n",
      "6      692          1H  21.676380         Goal  Celta de Vigo\n",
      "7      687          1H  21.725120         Goal  Real Sociedad\n",
      "8      687          1H  32.235932         Goal  Real Sociedad\n",
      "9      692          1H  32.287470         Goal  Celta de Vigo\n",
      "10     692          2H  47.854804  Yellow_Card  Celta de Vigo\n",
      "11     692          2H  49.823315         Goal  Celta de Vigo\n",
      "12     687          2H  49.867597         Goal  Real Sociedad\n",
      "13     687          2H  79.731994         Goal  Real Sociedad\n",
      "14     692          2H  79.767527         Goal  Celta de Vigo\n",
      "15     692          2H  81.036904  Yellow_Card  Celta de Vigo\n",
      "16     692          2H  85.065527  Yellow_Card  Celta de Vigo\n",
      "17     687          2H  87.178302         Goal  Real Sociedad\n",
      "18     692          2H  87.202451         Goal  Celta de Vigo\n",
      "19     687          2H  90.932581  Yellow_Card  Real Sociedad\n"
     ]
    }
   ],
   "source": [
    "df_merged = pd.merge(df, df_team, on='teamId', how='left')\n",
    "\n",
    "print(df_merged.head(20))"
   ],
   "metadata": {
    "collapsed": false,
    "ExecuteTime": {
     "end_time": "2024-03-26T05:24:54.058088Z",
     "start_time": "2024-03-26T05:24:54.047779Z"
    }
   },
   "id": "f1d473ade0361301",
   "execution_count": 6
  },
  {
   "cell_type": "code",
   "outputs": [],
   "source": [
    "df_merged.drop('teamId', axis=1, inplace=True)"
   ],
   "metadata": {
    "collapsed": false,
    "ExecuteTime": {
     "end_time": "2024-03-26T05:24:54.063793Z",
     "start_time": "2024-03-26T05:24:54.059086Z"
    }
   },
   "id": "ff913dc917801e2c",
   "execution_count": 7
  },
  {
   "cell_type": "code",
   "outputs": [],
   "source": [
    "df_merged.to_csv('final_data.csv', index=False, encoding='utf-8-sig')"
   ],
   "metadata": {
    "collapsed": false,
    "ExecuteTime": {
     "end_time": "2024-03-26T05:24:54.138759Z",
     "start_time": "2024-03-26T05:24:54.063793Z"
    }
   },
   "id": "7c555470a810becf",
   "execution_count": 8
  },
  {
   "cell_type": "code",
   "outputs": [],
   "source": [],
   "metadata": {
    "collapsed": false,
    "ExecuteTime": {
     "end_time": "2024-03-26T05:24:54.140733Z",
     "start_time": "2024-03-26T05:24:54.138759Z"
    }
   },
   "id": "835ae47f410be5c5",
   "execution_count": 8
  }
 ],
 "metadata": {
  "kernelspec": {
   "display_name": "Python 3",
   "language": "python",
   "name": "python3"
  },
  "language_info": {
   "codemirror_mode": {
    "name": "ipython",
    "version": 2
   },
   "file_extension": ".py",
   "mimetype": "text/x-python",
   "name": "python",
   "nbconvert_exporter": "python",
   "pygments_lexer": "ipython2",
   "version": "2.7.6"
  }
 },
 "nbformat": 4,
 "nbformat_minor": 5
}
